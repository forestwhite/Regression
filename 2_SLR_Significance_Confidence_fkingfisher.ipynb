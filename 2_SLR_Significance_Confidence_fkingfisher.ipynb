{
 "cells": [
  {
   "cell_type": "markdown",
   "id": "aa13cd0f-de9a-4a9a-9177-7c53d9aea186",
   "metadata": {
    "tags": []
   },
   "source": [
    "The number of pounds of steam used per month at a plant is thought to be related to the average monthly ambient temperature. The past year’s usages and temperatures follow."
   ]
  },
  {
   "cell_type": "code",
   "execution_count": 1,
   "id": "cd90d453-fe1f-44f2-a453-51c7779907ec",
   "metadata": {},
   "outputs": [
    {
     "data": {
      "text/html": [
       "<div>\n",
       "<style scoped>\n",
       "    .dataframe tbody tr th:only-of-type {\n",
       "        vertical-align: middle;\n",
       "    }\n",
       "\n",
       "    .dataframe tbody tr th {\n",
       "        vertical-align: top;\n",
       "    }\n",
       "\n",
       "    .dataframe thead th {\n",
       "        text-align: right;\n",
       "    }\n",
       "</style>\n",
       "<table border=\"1\" class=\"dataframe\">\n",
       "  <thead>\n",
       "    <tr style=\"text-align: right;\">\n",
       "      <th></th>\n",
       "      <th>Month</th>\n",
       "      <th>Temperature</th>\n",
       "      <th>Usage/l000</th>\n",
       "    </tr>\n",
       "  </thead>\n",
       "  <tbody>\n",
       "    <tr>\n",
       "      <th>0</th>\n",
       "      <td>Jan.</td>\n",
       "      <td>21</td>\n",
       "      <td>185.79</td>\n",
       "    </tr>\n",
       "    <tr>\n",
       "      <th>1</th>\n",
       "      <td>Jul.</td>\n",
       "      <td>68</td>\n",
       "      <td>621.55</td>\n",
       "    </tr>\n",
       "    <tr>\n",
       "      <th>2</th>\n",
       "      <td>Feb.</td>\n",
       "      <td>24</td>\n",
       "      <td>214.47</td>\n",
       "    </tr>\n",
       "    <tr>\n",
       "      <th>3</th>\n",
       "      <td>Aug.</td>\n",
       "      <td>74</td>\n",
       "      <td>675.06</td>\n",
       "    </tr>\n",
       "    <tr>\n",
       "      <th>4</th>\n",
       "      <td>Mar.</td>\n",
       "      <td>32</td>\n",
       "      <td>288.03</td>\n",
       "    </tr>\n",
       "    <tr>\n",
       "      <th>5</th>\n",
       "      <td>Sep.</td>\n",
       "      <td>62</td>\n",
       "      <td>562.03</td>\n",
       "    </tr>\n",
       "    <tr>\n",
       "      <th>6</th>\n",
       "      <td>Apr.</td>\n",
       "      <td>47</td>\n",
       "      <td>424.84</td>\n",
       "    </tr>\n",
       "    <tr>\n",
       "      <th>7</th>\n",
       "      <td>Oct.</td>\n",
       "      <td>50</td>\n",
       "      <td>452.93</td>\n",
       "    </tr>\n",
       "    <tr>\n",
       "      <th>8</th>\n",
       "      <td>May</td>\n",
       "      <td>50</td>\n",
       "      <td>454.68</td>\n",
       "    </tr>\n",
       "    <tr>\n",
       "      <th>9</th>\n",
       "      <td>Nov.</td>\n",
       "      <td>41</td>\n",
       "      <td>369.95</td>\n",
       "    </tr>\n",
       "    <tr>\n",
       "      <th>10</th>\n",
       "      <td>Jun.</td>\n",
       "      <td>59</td>\n",
       "      <td>539.03</td>\n",
       "    </tr>\n",
       "    <tr>\n",
       "      <th>11</th>\n",
       "      <td>Dec.</td>\n",
       "      <td>30</td>\n",
       "      <td>273.98</td>\n",
       "    </tr>\n",
       "  </tbody>\n",
       "</table>\n",
       "</div>"
      ],
      "text/plain": [
       "   Month  Temperature  Usage/l000\n",
       "0   Jan.           21      185.79\n",
       "1   Jul.           68      621.55\n",
       "2   Feb.           24      214.47\n",
       "3   Aug.           74      675.06\n",
       "4   Mar.           32      288.03\n",
       "5   Sep.           62      562.03\n",
       "6   Apr.           47      424.84\n",
       "7   Oct.           50      452.93\n",
       "8    May           50      454.68\n",
       "9   Nov.           41      369.95\n",
       "10  Jun.           59      539.03\n",
       "11  Dec.           30      273.98"
      ]
     },
     "metadata": {},
     "output_type": "display_data"
    }
   ],
   "source": [
    "import numpy as np\n",
    "import pandas as pd\n",
    "\n",
    "dat212 = pd.read_csv(\"https://raw.githubusercontent.com/forestwhite/Regression/main/data/212Table.csv\")\n",
    "display(dat212)"
   ]
  },
  {
   "cell_type": "markdown",
   "id": "8b0ddae9-7fe7-4246-8a4e-0e18da05c52b",
   "metadata": {
    "tags": []
   },
   "source": [
    "**b. Test for significance of regression.**\n",
    "\n",
    "There are two tests we can use to test the significance of the whole model, the t and F tests. To apply the t test, we can use summary data from the linear model or calculate the t statistic manually and compare it to the t critical value for the degrees of freedom and 95% confidence target:\n",
    "\n",
    " * t_critical value (alpha = 0.05, df = n-2 = 10): 2.2281388519649385, \n",
    " * t_statistic for our data: 272.254998757909\n",
    " \n",
    "t_statistic > t_critical, therefore we <u>reject H_0</u> and conclude that <u>number of pounds of steam used per month is significantly correlated to the average monthly ambient temperature</u>."
   ]
  },
  {
   "cell_type": "code",
   "execution_count": 1,
   "id": "a82ebcb5-6eb6-48d1-abe2-aebb34206c1e",
   "metadata": {
    "tags": []
   },
   "outputs": [
    {
     "data": {
      "text/plain": [
       "2.2281388519649385"
      ]
     },
     "metadata": {},
     "output_type": "display_data"
    },
    {
     "data": {
      "text/plain": [
       "array([[ 1., 21.],\n",
       "       [ 1., 68.],\n",
       "       [ 1., 24.],\n",
       "       [ 1., 74.],\n",
       "       [ 1., 32.],\n",
       "       [ 1., 62.],\n",
       "       [ 1., 47.],\n",
       "       [ 1., 50.],\n",
       "       [ 1., 50.],\n",
       "       [ 1., 41.],\n",
       "       [ 1., 59.],\n",
       "       [ 1., 30.]])"
      ]
     },
     "metadata": {},
     "output_type": "display_data"
    },
    {
     "data": {
      "text/plain": [
       "const   -6.332087\n",
       "x1       9.208468\n",
       "dtype: float64"
      ]
     },
     "metadata": {},
     "output_type": "display_data"
    },
    {
     "data": {
      "text/plain": [
       "272.254998757909"
      ]
     },
     "metadata": {},
     "output_type": "display_data"
    },
    {
     "name": "stdout",
     "output_type": "stream",
     "text": [
      "t statistic: \n"
     ]
    },
    {
     "data": {
      "text/plain": [
       "272.2550042226885"
      ]
     },
     "metadata": {},
     "output_type": "display_data"
    }
   ],
   "source": [
    "# calculate two-tail t critical value for alpha=0.05, degrees of freedom=n-2=10\n",
    "from scipy import stats\n",
    "display(stats.t.ppf(q=1-.05/2, df=10))\n",
    "\n",
    "# calculate t statistic for our data set using the linear model\n",
    "import numpy as np\n",
    "import pandas as pd\n",
    "import statsmodels.api as sm\n",
    "\n",
    "dataset = pd.read_csv(\"https://raw.githubusercontent.com/forestwhite/Regression/main/data/212Table.csv\")\n",
    "\n",
    "# Creating X and y\n",
    "X = dataset['Temperature'].values\n",
    "y = dataset['Usage/l000']\n",
    "\n",
    "# Add a list of ones with length of X to identify intercept terms in linear model\n",
    "x = sm.add_constant(X)\n",
    "lm212 = sm.OLS(y,x).fit()\n",
    "# To list all fields in lm212 model display(dir(lm212))\n",
    "display(lm212.params)\n",
    "display(lm212.tvalues[1])\n",
    "\n",
    "# calculate y_hat estimate, sum of squares error, variance, and sum of squares x^2\n",
    "yhat = 9.208468*X - 6.332087\n",
    "SS_error=sum(np.square(np.subtract(y,yhat)))\n",
    "variance_y=SS_error/10\n",
    "SSxx = sum(np.square(np.subtract(X,np.average(X))))\n",
    "\n",
    "# calculate t statistic for our data set manually\n",
    "t_stat = 9.208468/(np.sqrt(variance_y/SSxx))\n",
    "print(\"t statistic: \")\n",
    "display(t_stat)"
   ]
  },
  {
   "cell_type": "markdown",
   "id": "028faa54-4f4a-45ac-abcc-5ecdfba2208c",
   "metadata": {
    "tags": []
   },
   "source": [
    "To apply the F test, we use the F value calculated in the linear model or calculate the F statistic for our model manually and compare it to the critical F value given our degrees of freedom:\n",
    "\n",
    " * F_critical value (alpha = 0.05, df = n-2 = 10): 4.964603 \n",
    " * F_statistic for our data: 74122.78\n",
    " \n",
    "F_statistic > F_critical, therefore we <u>reject H_0</u> and conclude that <u>number of pounds of steam used per month is significantly correlated to the average monthly ambient temperature</u>."
   ]
  },
  {
   "cell_type": "code",
   "execution_count": 15,
   "id": "b2caab6c-d127-404a-85bd-e96c34287949",
   "metadata": {
    "tags": []
   },
   "outputs": [
    {
     "data": {
      "text/plain": [
       "4.9646027437307145"
      ]
     },
     "metadata": {},
     "output_type": "display_data"
    },
    {
     "data": {
      "text/plain": [
       "const         -6.332087\n",
       "Temperature    9.208468\n",
       "dtype: float64"
      ]
     },
     "metadata": {},
     "output_type": "display_data"
    },
    {
     "data": {
      "text/plain": [
       "74122.78434866904"
      ]
     },
     "metadata": {},
     "output_type": "display_data"
    },
    {
     "name": "stdout",
     "output_type": "stream",
     "text": [
      "F statistic: \n"
     ]
    },
    {
     "data": {
      "text/plain": [
       "74122.78732429638"
      ]
     },
     "metadata": {},
     "output_type": "display_data"
    }
   ],
   "source": [
    "# calculate one-sided F critical value for alpha=0.05, degrees of freedom=n-2=10\n",
    "from scipy import stats\n",
    "display(stats.f.ppf(q=1-0.05, dfn=1, dfd=10))\n",
    "\n",
    "# calculate F-statistic for our data set using the linear model\n",
    "import pandas as pd\n",
    "import statsmodels.api as sm\n",
    "\n",
    "dataset = pd.read_csv(\"https://raw.githubusercontent.com/forestwhite/Regression/main/data/212Table.csv\")\n",
    "\n",
    "# Creating X and y\n",
    "X = dataset['Temperature']\n",
    "y = dataset['Usage/l000']\n",
    "\n",
    "x = sm.add_constant(X)\n",
    "lm212 = sm.OLS(y,x).fit()\n",
    "# To list all fields in lm212 model display(dir(lm212))\n",
    "display(lm212.params)\n",
    "\n",
    "# calculate F statistic for our data set using the linear model\n",
    "display(lm212.fvalue)\n",
    "\n",
    "# calculate y_hat estimate, sum of squares error, and sum of squares regression (response)\n",
    "yhat = 9.208468*X - 6.332087\n",
    "SS_error=sum(np.square(np.subtract(y,yhat)))\n",
    "SS_regression=sum(np.square(np.subtract(yhat,np.average(y))))\n",
    "\n",
    "# calculate F-statistic for our data set manually\n",
    "f_stat=(SS_regression/1)/(SS_error/10)\n",
    "print(\"F statistic: \")\n",
    "display(f_stat)"
   ]
  },
  {
   "cell_type": "markdown",
   "id": "97408316-6354-48cc-8640-80ed191957c0",
   "metadata": {
    "tags": []
   },
   "source": [
    "**c. Plant management believes that an increase in average ambient temperature of 1 degree will increase average monthly steam consumption by 10,000 lb. Do the data support this statement?**\n",
    "\n",
    "This question suggests Beta_1 is 10 for the population, and asks us to test this against the Beta_1_hat we get from the data. The t test statistics are:\n",
    "\n",
    " * t_critical value (alpha = 0.05, df = n-2 = 10): 2.2281388519649385\n",
    " * t_statistic for Beta_1 = 10: -23.40215587352691\n",
    " \n",
    "|t_statistic| > t_critical, therefore we <u>reject H_0</u> and conclude that <u>the slope is not 10</u>."
   ]
  },
  {
   "cell_type": "code",
   "execution_count": 5,
   "id": "8e5db4e8-fa47-459e-9d6b-242380f70907",
   "metadata": {
    "tags": []
   },
   "outputs": [
    {
     "data": {
      "text/plain": [
       "2.2281388519649385"
      ]
     },
     "metadata": {},
     "output_type": "display_data"
    },
    {
     "name": "stdout",
     "output_type": "stream",
     "text": [
      "t statistic: \n"
     ]
    },
    {
     "data": {
      "text/plain": [
       "-23.40215587352691"
      ]
     },
     "metadata": {},
     "output_type": "display_data"
    }
   ],
   "source": [
    "# calculate two-tail t critical value for alpha=0.05, degrees of freedom=n-2=10\n",
    "from scipy import stats\n",
    "display(stats.t.ppf(q=1-.05/2, df=10))\n",
    "\n",
    "# calculate t statistic for our data set using the linear model\n",
    "import numpy as np\n",
    "\n",
    "beta_1_hat = 9.20847 # least squares fit coefficient\n",
    "beta_1_0 = 10 # hypothesized coefficient from plant management\n",
    "\n",
    "# calculate y_hat estimate, sum of squares error, variance, and sum of squares x^2\n",
    "yhat = 9.208468*X - 6.332087\n",
    "SS_error=sum(np.square(np.subtract(y,yhat)))\n",
    "variance_y=SS_error/10\n",
    "SSxx = sum(np.square(np.subtract(X,np.average(X))))\n",
    "\n",
    "# calculate t statistic that compares coefficients manually\n",
    "t_stat = (beta_1_hat-beta_1_0)/(np.sqrt(variance_y/SSxx))\n",
    "print(\"t statistic: \")\n",
    "display(t_stat)"
   ]
  },
  {
   "cell_type": "markdown",
   "id": "2cad2d31-8bcb-47e3-9797-53d00057cf86",
   "metadata": {
    "tags": []
   },
   "source": [
    "**d. Construct a 99% confidence and prediction intervals on steam usage in a month with average ambient temperature of 58°.**\n",
    "\n",
    " * The Confidence Interval (E[y|58]) = (525.594,529.9244)\n",
    " * The Prediction Interval (y_i,new) = (521.2238,534.2945)"
   ]
  },
  {
   "cell_type": "code",
   "execution_count": 33,
   "id": "9fa8a834-8b15-48fc-935c-bdbab99e4cb0",
   "metadata": {
    "tags": []
   },
   "outputs": [
    {
     "data": {
      "text/plain": [
       "3.169272667175838"
      ]
     },
     "metadata": {},
     "output_type": "display_data"
    },
    {
     "data": {
      "text/plain": [
       "const         -6.332087\n",
       "Temperature    9.208468\n",
       "dtype: float64"
      ]
     },
     "metadata": {},
     "output_type": "display_data"
    },
    {
     "data": {
      "text/plain": [
       "525.593841143829"
      ]
     },
     "metadata": {},
     "output_type": "display_data"
    },
    {
     "data": {
      "text/plain": [
       "529.924272856171"
      ]
     },
     "metadata": {},
     "output_type": "display_data"
    },
    {
     "data": {
      "text/plain": [
       "mean             527.759047\n",
       "mean_se            0.683190\n",
       "mean_ci_lower    525.593831\n",
       "mean_ci_upper    529.924262\n",
       "obs_ci_lower     521.223718\n",
       "obs_ci_upper     534.294375\n",
       "Name: 1, dtype: float64"
      ]
     },
     "metadata": {},
     "output_type": "display_data"
    }
   ],
   "source": [
    "# calculate two-tail t critical value for alpha=0.05, degrees of freedom=n-2=10\n",
    "from scipy import stats\n",
    "t_99=stats.t.ppf(q=1-.01/2, df=10)\n",
    "display(t_99)\n",
    "\n",
    "# calculate t-statistic for our data set using the linear model\n",
    "import numpy as np\n",
    "import pandas as pd\n",
    "import statsmodels.api as sm\n",
    "\n",
    "dataset = pd.read_csv(\"https://raw.githubusercontent.com/forestwhite/Regression/main/data/212Table.csv\")\n",
    "\n",
    "# Creating X and y\n",
    "X = dataset['Temperature']\n",
    "y = dataset['Usage/l000']\n",
    "\n",
    "x = sm.add_constant(X)\n",
    "lm212 = sm.OLS(y,x).fit()\n",
    "# To list all fields in lm212 model display(dir(lm212))\n",
    "display(lm212.params)\n",
    "\n",
    "# calculate y_hat estimate, sum of squares error, variance, and sum of squares x^2\n",
    "yhat_58 = 9.208468*58 - 6.332087\n",
    "yhat = 9.208468*X - 6.332087\n",
    "SS_error=sum(np.square(np.subtract(y,yhat)))\n",
    "variance_y=SS_error/10\n",
    "SSxx = sum(np.square(np.subtract(X,np.average(X))))\n",
    "\n",
    "#mean squared error is equal to variance of y, manually calculate confidence interval\n",
    "lower_confidence = yhat_58-t_99*(np.sqrt(variance_y*(1/12+np.square(58-np.average(X))/SSxx)))\n",
    "upper_confidence = yhat_58+t_99*(np.sqrt(variance_y*(1/12+np.square(58-np.average(X))/SSxx)))\n",
    "display(lower_confidence)\n",
    "display(upper_confidence)\n",
    "\n",
    "#use linear model to automatically calculate confidence\n",
    "y_prd = lm212.get_prediction(sm.add_constant([0,58])) #IMPORTANT: input >1 predictor values\n",
    "display(y_prd.summary_frame(alpha = 0.01).T[1])"
   ]
  },
  {
   "cell_type": "code",
   "execution_count": null,
   "id": "9144f5b5-270f-4610-ad28-b820934db3d4",
   "metadata": {},
   "outputs": [],
   "source": [
    "Plot the data adding a fitted regression line, 95% confidence interval, and 95% prediction interval (assume the error is normally distributed)."
   ]
  },
  {
   "cell_type": "code",
   "execution_count": 4,
   "id": "3bbb7224-cdef-4ef1-b0ac-68ec2e576b9b",
   "metadata": {
    "tags": []
   },
   "outputs": [
    {
     "data": {
      "text/html": [
       "<div>\n",
       "<style scoped>\n",
       "    .dataframe tbody tr th:only-of-type {\n",
       "        vertical-align: middle;\n",
       "    }\n",
       "\n",
       "    .dataframe tbody tr th {\n",
       "        vertical-align: top;\n",
       "    }\n",
       "\n",
       "    .dataframe thead th {\n",
       "        text-align: right;\n",
       "    }\n",
       "</style>\n",
       "<table border=\"1\" class=\"dataframe\">\n",
       "  <thead>\n",
       "    <tr style=\"text-align: right;\">\n",
       "      <th></th>\n",
       "      <th>Temperature</th>\n",
       "      <th>Usage</th>\n",
       "    </tr>\n",
       "  </thead>\n",
       "  <tbody>\n",
       "    <tr>\n",
       "      <th>0</th>\n",
       "      <td>21</td>\n",
       "      <td>185.79</td>\n",
       "    </tr>\n",
       "    <tr>\n",
       "      <th>1</th>\n",
       "      <td>68</td>\n",
       "      <td>621.55</td>\n",
       "    </tr>\n",
       "    <tr>\n",
       "      <th>2</th>\n",
       "      <td>24</td>\n",
       "      <td>214.47</td>\n",
       "    </tr>\n",
       "    <tr>\n",
       "      <th>3</th>\n",
       "      <td>74</td>\n",
       "      <td>675.06</td>\n",
       "    </tr>\n",
       "    <tr>\n",
       "      <th>4</th>\n",
       "      <td>32</td>\n",
       "      <td>288.03</td>\n",
       "    </tr>\n",
       "    <tr>\n",
       "      <th>5</th>\n",
       "      <td>62</td>\n",
       "      <td>562.03</td>\n",
       "    </tr>\n",
       "    <tr>\n",
       "      <th>6</th>\n",
       "      <td>47</td>\n",
       "      <td>424.84</td>\n",
       "    </tr>\n",
       "    <tr>\n",
       "      <th>7</th>\n",
       "      <td>50</td>\n",
       "      <td>452.93</td>\n",
       "    </tr>\n",
       "    <tr>\n",
       "      <th>8</th>\n",
       "      <td>50</td>\n",
       "      <td>454.68</td>\n",
       "    </tr>\n",
       "    <tr>\n",
       "      <th>9</th>\n",
       "      <td>41</td>\n",
       "      <td>369.95</td>\n",
       "    </tr>\n",
       "    <tr>\n",
       "      <th>10</th>\n",
       "      <td>59</td>\n",
       "      <td>539.03</td>\n",
       "    </tr>\n",
       "    <tr>\n",
       "      <th>11</th>\n",
       "      <td>30</td>\n",
       "      <td>273.98</td>\n",
       "    </tr>\n",
       "  </tbody>\n",
       "</table>\n",
       "</div>"
      ],
      "text/plain": [
       "    Temperature   Usage\n",
       "0            21  185.79\n",
       "1            68  621.55\n",
       "2            24  214.47\n",
       "3            74  675.06\n",
       "4            32  288.03\n",
       "5            62  562.03\n",
       "6            47  424.84\n",
       "7            50  452.93\n",
       "8            50  454.68\n",
       "9            41  369.95\n",
       "10           59  539.03\n",
       "11           30  273.98"
      ]
     },
     "metadata": {},
     "output_type": "display_data"
    },
    {
     "data": {
      "text/plain": [
       "Intercept     -6.332087\n",
       "Temperature    9.208468\n",
       "dtype: float64"
      ]
     },
     "metadata": {},
     "output_type": "display_data"
    },
    {
     "data": {
      "text/html": [
       "<div>\n",
       "<style scoped>\n",
       "    .dataframe tbody tr th:only-of-type {\n",
       "        vertical-align: middle;\n",
       "    }\n",
       "\n",
       "    .dataframe tbody tr th {\n",
       "        vertical-align: top;\n",
       "    }\n",
       "\n",
       "    .dataframe thead th {\n",
       "        text-align: right;\n",
       "    }\n",
       "</style>\n",
       "<table border=\"1\" class=\"dataframe\">\n",
       "  <thead>\n",
       "    <tr style=\"text-align: right;\">\n",
       "      <th></th>\n",
       "      <th>mean</th>\n",
       "      <th>mean_se</th>\n",
       "      <th>mean_ci_lower</th>\n",
       "      <th>mean_ci_upper</th>\n",
       "      <th>obs_ci_lower</th>\n",
       "      <th>obs_ci_upper</th>\n",
       "    </tr>\n",
       "  </thead>\n",
       "  <tbody>\n",
       "    <tr>\n",
       "      <th>0</th>\n",
       "      <td>187.045737</td>\n",
       "      <td>1.029241</td>\n",
       "      <td>184.752446</td>\n",
       "      <td>189.339029</td>\n",
       "      <td>182.141399</td>\n",
       "      <td>191.950076</td>\n",
       "    </tr>\n",
       "    <tr>\n",
       "      <th>1</th>\n",
       "      <td>619.843725</td>\n",
       "      <td>0.918840</td>\n",
       "      <td>617.796423</td>\n",
       "      <td>621.891027</td>\n",
       "      <td>615.049478</td>\n",
       "      <td>624.637971</td>\n",
       "    </tr>\n",
       "    <tr>\n",
       "      <th>2</th>\n",
       "      <td>214.671141</td>\n",
       "      <td>0.945834</td>\n",
       "      <td>212.563692</td>\n",
       "      <td>216.778590</td>\n",
       "      <td>209.850903</td>\n",
       "      <td>219.491379</td>\n",
       "    </tr>\n",
       "    <tr>\n",
       "      <th>3</th>\n",
       "      <td>675.094532</td>\n",
       "      <td>1.086554</td>\n",
       "      <td>672.673538</td>\n",
       "      <td>677.515525</td>\n",
       "      <td>670.129195</td>\n",
       "      <td>680.059868</td>\n",
       "    </tr>\n",
       "    <tr>\n",
       "      <th>4</th>\n",
       "      <td>288.338883</td>\n",
       "      <td>0.745641</td>\n",
       "      <td>286.677492</td>\n",
       "      <td>290.000275</td>\n",
       "      <td>283.696301</td>\n",
       "      <td>292.981466</td>\n",
       "    </tr>\n",
       "    <tr>\n",
       "      <th>5</th>\n",
       "      <td>564.592918</td>\n",
       "      <td>0.768310</td>\n",
       "      <td>562.881017</td>\n",
       "      <td>566.304819</td>\n",
       "      <td>559.932021</td>\n",
       "      <td>569.253815</td>\n",
       "    </tr>\n",
       "    <tr>\n",
       "      <th>6</th>\n",
       "      <td>426.465901</td>\n",
       "      <td>0.561909</td>\n",
       "      <td>425.213889</td>\n",
       "      <td>427.717912</td>\n",
       "      <td>421.953597</td>\n",
       "      <td>430.978204</td>\n",
       "    </tr>\n",
       "    <tr>\n",
       "      <th>7</th>\n",
       "      <td>454.091304</td>\n",
       "      <td>0.573995</td>\n",
       "      <td>452.812364</td>\n",
       "      <td>455.370244</td>\n",
       "      <td>449.571454</td>\n",
       "      <td>458.611154</td>\n",
       "    </tr>\n",
       "    <tr>\n",
       "      <th>8</th>\n",
       "      <td>454.091304</td>\n",
       "      <td>0.573995</td>\n",
       "      <td>452.812364</td>\n",
       "      <td>455.370244</td>\n",
       "      <td>449.571454</td>\n",
       "      <td>458.611154</td>\n",
       "    </tr>\n",
       "    <tr>\n",
       "      <th>9</th>\n",
       "      <td>371.215094</td>\n",
       "      <td>0.591660</td>\n",
       "      <td>369.896793</td>\n",
       "      <td>372.533394</td>\n",
       "      <td>366.683949</td>\n",
       "      <td>375.746238</td>\n",
       "    </tr>\n",
       "    <tr>\n",
       "      <th>10</th>\n",
       "      <td>536.967514</td>\n",
       "      <td>0.702997</td>\n",
       "      <td>535.401140</td>\n",
       "      <td>538.533889</td>\n",
       "      <td>532.358080</td>\n",
       "      <td>541.576949</td>\n",
       "    </tr>\n",
       "    <tr>\n",
       "      <th>11</th>\n",
       "      <td>269.921948</td>\n",
       "      <td>0.791775</td>\n",
       "      <td>268.157763</td>\n",
       "      <td>271.686132</td>\n",
       "      <td>265.241595</td>\n",
       "      <td>274.602300</td>\n",
       "    </tr>\n",
       "  </tbody>\n",
       "</table>\n",
       "</div>"
      ],
      "text/plain": [
       "          mean   mean_se  mean_ci_lower  mean_ci_upper  obs_ci_lower  \\\n",
       "0   187.045737  1.029241     184.752446     189.339029    182.141399   \n",
       "1   619.843725  0.918840     617.796423     621.891027    615.049478   \n",
       "2   214.671141  0.945834     212.563692     216.778590    209.850903   \n",
       "3   675.094532  1.086554     672.673538     677.515525    670.129195   \n",
       "4   288.338883  0.745641     286.677492     290.000275    283.696301   \n",
       "5   564.592918  0.768310     562.881017     566.304819    559.932021   \n",
       "6   426.465901  0.561909     425.213889     427.717912    421.953597   \n",
       "7   454.091304  0.573995     452.812364     455.370244    449.571454   \n",
       "8   454.091304  0.573995     452.812364     455.370244    449.571454   \n",
       "9   371.215094  0.591660     369.896793     372.533394    366.683949   \n",
       "10  536.967514  0.702997     535.401140     538.533889    532.358080   \n",
       "11  269.921948  0.791775     268.157763     271.686132    265.241595   \n",
       "\n",
       "    obs_ci_upper  \n",
       "0     191.950076  \n",
       "1     624.637971  \n",
       "2     219.491379  \n",
       "3     680.059868  \n",
       "4     292.981466  \n",
       "5     569.253815  \n",
       "6     430.978204  \n",
       "7     458.611154  \n",
       "8     458.611154  \n",
       "9     375.746238  \n",
       "10    541.576949  \n",
       "11    274.602300  "
      ]
     },
     "metadata": {},
     "output_type": "display_data"
    },
    {
     "data": {
      "image/png": "[encoded data removed]",
      "text/plain": [
       "<Figure size 1080x1080 with 1 Axes>"
      ]
     },
     "metadata": {
      "needs_background": "light"
     },
     "output_type": "display_data"
    }
   ],
   "source": [
    "import numpy as np\n",
    "import pandas as pd\n",
    "import matplotlib.pyplot as plt\n",
    "import statsmodels.api as sm\n",
    "\n",
    "dataset = pd.read_csv(\"https://raw.githubusercontent.com/forestwhite/Regression/main/data/212Table.csv\")\n",
    "\n",
    "# Creating X and y\n",
    "X = dataset['Temperature']\n",
    "y = dataset['Usage/l000']\n",
    "dat212 = pd.DataFrame(X).join(pd.DataFrame(y))\n",
    "# Change the column names\n",
    "dat212.columns =['Temperature', 'Usage']\n",
    "display(dat212)\n",
    "\n",
    "#Calculate 95% confidence and prediction intervals\n",
    "model = sm.formula.ols('Usage ~ Temperature', dat212)\n",
    "lm212 = model.fit()\n",
    "display(lm212.params)\n",
    "alpha = 0.05\n",
    "predictions = lm212.get_prediction(dat212).summary_frame(alpha)\n",
    "display(predictions)\n",
    "\n",
    "#Plot confidence and prediction intervals as bottom layer\n",
    "plt.figure(figsize=(15, 15))\n",
    "plt.fill_between(dat212['Temperature'], predictions['obs_ci_lower'], predictions['obs_ci_upper'], alpha=.1, label='Prediction interval', color='blue')\n",
    "plt.fill_between(dat212['Temperature'], predictions['mean_ci_lower'], predictions['mean_ci_upper'], alpha=.5, label='Confidence interval',color='orange')\n",
    "\n",
    "#plots the data points\n",
    "plt.scatter(X,y,label='Observed', marker='x', color='black')\n",
    "\n",
    "#Create and plot the regression line\n",
    "yhat = 9.2085*X - 6.3321\n",
    "plt.plot(X, yhat, lw=1, c='blue', label = 'regression line')\n",
    "\n",
    "#Add labels and legend last\n",
    "plt.xlabel('Temperature (°F)', fontsize = 20)\n",
    "plt.ylabel('Pounds of Steam/1000', fontsize = 20)\n",
    "plt.legend()\n",
    "\n",
    "plt.show()"
   ]
  },
  {
   "cell_type": "code",
   "execution_count": null,
   "id": "59ca3597-7eb6-408a-a293-9ec90e410064",
   "metadata": {},
   "outputs": [],
   "source": []
  }
 ],
 "metadata": {
  "kernelspec": {
   "display_name": "Python 3 (ipykernel)",
   "language": "python",
   "name": "python3"
  },
  "language_info": {
   "codemirror_mode": {
    "name": "ipython",
    "version": 3
   },
   "file_extension": ".py",
   "mimetype": "text/x-python",
   "name": "python",
   "nbconvert_exporter": "python",
   "pygments_lexer": "ipython3",
   "version": "3.8.12"
  }
 },
 "nbformat": 4,
 "nbformat_minor": 5
}
