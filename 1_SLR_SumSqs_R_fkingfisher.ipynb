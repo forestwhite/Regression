{
 "cells": [
  {
   "cell_type": "markdown",
   "id": "aa13cd0f-de9a-4a9a-9177-7c53d9aea186",
   "metadata": {
    "tags": []
   },
   "source": [
    "The number of pounds of steam used per month at a plant is thought to be related to the average monthly ambient temperature. The past year’s usages and temperatures follow."
   ]
  },
  {
   "cell_type": "code",
   "execution_count": 19,
   "id": "cd90d453-fe1f-44f2-a453-51c7779907ec",
   "metadata": {},
   "outputs": [
    {
     "data": {
      "text/html": [
       "<div>\n",
       "<style scoped>\n",
       "    .dataframe tbody tr th:only-of-type {\n",
       "        vertical-align: middle;\n",
       "    }\n",
       "\n",
       "    .dataframe tbody tr th {\n",
       "        vertical-align: top;\n",
       "    }\n",
       "\n",
       "    .dataframe thead th {\n",
       "        text-align: right;\n",
       "    }\n",
       "</style>\n",
       "<table border=\"1\" class=\"dataframe\">\n",
       "  <thead>\n",
       "    <tr style=\"text-align: right;\">\n",
       "      <th></th>\n",
       "      <th>Month</th>\n",
       "      <th>Temperature</th>\n",
       "      <th>Usage/l000</th>\n",
       "    </tr>\n",
       "  </thead>\n",
       "  <tbody>\n",
       "    <tr>\n",
       "      <th>0</th>\n",
       "      <td>Jan.</td>\n",
       "      <td>21</td>\n",
       "      <td>185.79</td>\n",
       "    </tr>\n",
       "    <tr>\n",
       "      <th>1</th>\n",
       "      <td>Jul.</td>\n",
       "      <td>68</td>\n",
       "      <td>621.55</td>\n",
       "    </tr>\n",
       "    <tr>\n",
       "      <th>2</th>\n",
       "      <td>Feb.</td>\n",
       "      <td>24</td>\n",
       "      <td>214.47</td>\n",
       "    </tr>\n",
       "    <tr>\n",
       "      <th>3</th>\n",
       "      <td>Aug.</td>\n",
       "      <td>74</td>\n",
       "      <td>675.06</td>\n",
       "    </tr>\n",
       "    <tr>\n",
       "      <th>4</th>\n",
       "      <td>Mar.</td>\n",
       "      <td>32</td>\n",
       "      <td>288.03</td>\n",
       "    </tr>\n",
       "    <tr>\n",
       "      <th>5</th>\n",
       "      <td>Sep.</td>\n",
       "      <td>62</td>\n",
       "      <td>562.03</td>\n",
       "    </tr>\n",
       "    <tr>\n",
       "      <th>6</th>\n",
       "      <td>Apr.</td>\n",
       "      <td>47</td>\n",
       "      <td>424.84</td>\n",
       "    </tr>\n",
       "    <tr>\n",
       "      <th>7</th>\n",
       "      <td>Oct.</td>\n",
       "      <td>50</td>\n",
       "      <td>452.93</td>\n",
       "    </tr>\n",
       "    <tr>\n",
       "      <th>8</th>\n",
       "      <td>May</td>\n",
       "      <td>50</td>\n",
       "      <td>454.68</td>\n",
       "    </tr>\n",
       "    <tr>\n",
       "      <th>9</th>\n",
       "      <td>Nov.</td>\n",
       "      <td>41</td>\n",
       "      <td>369.95</td>\n",
       "    </tr>\n",
       "    <tr>\n",
       "      <th>10</th>\n",
       "      <td>Jun.</td>\n",
       "      <td>59</td>\n",
       "      <td>539.03</td>\n",
       "    </tr>\n",
       "    <tr>\n",
       "      <th>11</th>\n",
       "      <td>Dec.</td>\n",
       "      <td>30</td>\n",
       "      <td>273.98</td>\n",
       "    </tr>\n",
       "  </tbody>\n",
       "</table>\n",
       "</div>"
      ],
      "text/plain": [
       "   Month  Temperature  Usage/l000\n",
       "0   Jan.           21      185.79\n",
       "1   Jul.           68      621.55\n",
       "2   Feb.           24      214.47\n",
       "3   Aug.           74      675.06\n",
       "4   Mar.           32      288.03\n",
       "5   Sep.           62      562.03\n",
       "6   Apr.           47      424.84\n",
       "7   Oct.           50      452.93\n",
       "8    May           50      454.68\n",
       "9   Nov.           41      369.95\n",
       "10  Jun.           59      539.03\n",
       "11  Dec.           30      273.98"
      ]
     },
     "metadata": {},
     "output_type": "display_data"
    },
    {
     "data": {
      "text/plain": [
       "(12, 3)"
      ]
     },
     "metadata": {},
     "output_type": "display_data"
    },
    {
     "name": "stdout",
     "output_type": "stream",
     "text": [
      "<class 'pandas.core.frame.DataFrame'>\n",
      "RangeIndex: 12 entries, 0 to 11\n",
      "Data columns (total 3 columns):\n",
      " #   Column       Non-Null Count  Dtype  \n",
      "---  ------       --------------  -----  \n",
      " 0   Month        12 non-null     object \n",
      " 1   Temperature  12 non-null     int64  \n",
      " 2   Usage/l000   12 non-null     float64\n",
      "dtypes: float64(1), int64(1), object(1)\n",
      "memory usage: 416.0+ bytes\n"
     ]
    },
    {
     "data": {
      "text/plain": [
       "None"
      ]
     },
     "metadata": {},
     "output_type": "display_data"
    },
    {
     "data": {
      "text/html": [
       "<div>\n",
       "<style scoped>\n",
       "    .dataframe tbody tr th:only-of-type {\n",
       "        vertical-align: middle;\n",
       "    }\n",
       "\n",
       "    .dataframe tbody tr th {\n",
       "        vertical-align: top;\n",
       "    }\n",
       "\n",
       "    .dataframe thead th {\n",
       "        text-align: right;\n",
       "    }\n",
       "</style>\n",
       "<table border=\"1\" class=\"dataframe\">\n",
       "  <thead>\n",
       "    <tr style=\"text-align: right;\">\n",
       "      <th></th>\n",
       "      <th>Temperature</th>\n",
       "      <th>Usage/l000</th>\n",
       "    </tr>\n",
       "  </thead>\n",
       "  <tbody>\n",
       "    <tr>\n",
       "      <th>count</th>\n",
       "      <td>12.000000</td>\n",
       "      <td>12.000000</td>\n",
       "    </tr>\n",
       "    <tr>\n",
       "      <th>mean</th>\n",
       "      <td>46.500000</td>\n",
       "      <td>421.861667</td>\n",
       "    </tr>\n",
       "    <tr>\n",
       "      <th>std</th>\n",
       "      <td>17.344111</td>\n",
       "      <td>159.723460</td>\n",
       "    </tr>\n",
       "    <tr>\n",
       "      <th>min</th>\n",
       "      <td>21.000000</td>\n",
       "      <td>185.790000</td>\n",
       "    </tr>\n",
       "    <tr>\n",
       "      <th>25%</th>\n",
       "      <td>31.500000</td>\n",
       "      <td>284.517500</td>\n",
       "    </tr>\n",
       "    <tr>\n",
       "      <th>50%</th>\n",
       "      <td>48.500000</td>\n",
       "      <td>438.885000</td>\n",
       "    </tr>\n",
       "    <tr>\n",
       "      <th>75%</th>\n",
       "      <td>59.750000</td>\n",
       "      <td>544.780000</td>\n",
       "    </tr>\n",
       "    <tr>\n",
       "      <th>max</th>\n",
       "      <td>74.000000</td>\n",
       "      <td>675.060000</td>\n",
       "    </tr>\n",
       "  </tbody>\n",
       "</table>\n",
       "</div>"
      ],
      "text/plain": [
       "       Temperature  Usage/l000\n",
       "count    12.000000   12.000000\n",
       "mean     46.500000  421.861667\n",
       "std      17.344111  159.723460\n",
       "min      21.000000  185.790000\n",
       "25%      31.500000  284.517500\n",
       "50%      48.500000  438.885000\n",
       "75%      59.750000  544.780000\n",
       "max      74.000000  675.060000"
      ]
     },
     "metadata": {},
     "output_type": "display_data"
    }
   ],
   "source": [
    "import numpy as np\n",
    "import pandas as pd\n",
    "\n",
    "dataset = pd.read_csv(\"https://raw.githubusercontent.com/forestwhite/Regression/main/data/212Table.csv\")\n",
    "display(dataset)\n",
    "\n",
    "# Shape of our dataset\n",
    "display(dataset.shape)\n",
    "\n",
    "# Info on our dataset\n",
    "display(dataset.info())\n",
    "\n",
    "# Describe our dataset\n",
    "display(dataset.describe())"
   ]
  },
  {
   "cell_type": "markdown",
   "id": "8b0ddae9-7fe7-4246-8a4e-0e18da05c52b",
   "metadata": {
    "tags": []
   },
   "source": [
    "Generate a scatterplot of the data."
   ]
  },
  {
   "cell_type": "code",
   "execution_count": 8,
   "id": "a82ebcb5-6eb6-48d1-abe2-aebb34206c1e",
   "metadata": {
    "tags": []
   },
   "outputs": [
    {
     "data": {
      "image/png": "[encoded data removed]",
      "text/plain": [
       "<Figure size 288x288 with 1 Axes>"
      ]
     },
     "metadata": {
      "needs_background": "light"
     },
     "output_type": "display_data"
    }
   ],
   "source": [
    "# Generate a scatterplot of the data.\n",
    "import numpy as np\n",
    "import pandas as pd\n",
    "\n",
    "dataset = pd.read_csv(\"https://raw.githubusercontent.com/forestwhite/Regression/main/data/212Table.csv\")\n",
    "\n",
    "# Import matplotlib and seaborn libraries to visualize the data\n",
    "import matplotlib.pyplot as plt \n",
    "import seaborn as sns\n",
    "\n",
    "# Using pairplot we'll visualize the data for correlation\n",
    "sns.pairplot(dataset, x_vars=['Temperature'], \n",
    "             y_vars='Usage/l000', height=4, aspect=1, kind='scatter')\n",
    "plt.show()"
   ]
  },
  {
   "cell_type": "markdown",
   "id": "028faa54-4f4a-45ac-abcc-5ecdfba2208c",
   "metadata": {
    "tags": []
   },
   "source": [
    "Fit a simple linear regression model to the data and generate the intercept and coefficient estimates.  "
   ]
  },
  {
   "cell_type": "code",
   "execution_count": 9,
   "id": "b2caab6c-d127-404a-85bd-e96c34287949",
   "metadata": {
    "tags": []
   },
   "outputs": [
    {
     "name": "stderr",
     "output_type": "stream",
     "text": [
      "C:\\JupyterLab\\resources\\jlab_server\\lib\\site-packages\\scipy\\stats\\stats.py:1541: UserWarning: kurtosistest only valid for n>=20 ... continuing anyway, n=12\n",
      "  warnings.warn(\"kurtosistest only valid for n>=20 ... continuing \"\n"
     ]
    },
    {
     "data": {
      "text/html": [
       "<table class=\"simpletable\">\n",
       "<caption>OLS Regression Results</caption>\n",
       "<tr>\n",
       "  <th>Dep. Variable:</th>       <td>Usage/l000</td>    <th>  R-squared:         </th> <td>   1.000</td> \n",
       "</tr>\n",
       "<tr>\n",
       "  <th>Model:</th>                   <td>OLS</td>       <th>  Adj. R-squared:    </th> <td>   1.000</td> \n",
       "</tr>\n",
       "<tr>\n",
       "  <th>Method:</th>             <td>Least Squares</td>  <th>  F-statistic:       </th> <td>7.412e+04</td>\n",
       "</tr>\n",
       "<tr>\n",
       "  <th>Date:</th>             <td>Fri, 25 Mar 2022</td> <th>  Prob (F-statistic):</th> <td>1.10e-20</td> \n",
       "</tr>\n",
       "<tr>\n",
       "  <th>Time:</th>                 <td>13:04:50</td>     <th>  Log-Likelihood:    </th> <td> -23.920</td> \n",
       "</tr>\n",
       "<tr>\n",
       "  <th>No. Observations:</th>      <td>    12</td>      <th>  AIC:               </th> <td>   51.84</td> \n",
       "</tr>\n",
       "<tr>\n",
       "  <th>Df Residuals:</th>          <td>    10</td>      <th>  BIC:               </th> <td>   52.81</td> \n",
       "</tr>\n",
       "<tr>\n",
       "  <th>Df Model:</th>              <td>     1</td>      <th>                     </th>     <td> </td>    \n",
       "</tr>\n",
       "<tr>\n",
       "  <th>Covariance Type:</th>      <td>nonrobust</td>    <th>                     </th>     <td> </td>    \n",
       "</tr>\n",
       "</table>\n",
       "<table class=\"simpletable\">\n",
       "<tr>\n",
       "       <td></td>          <th>coef</th>     <th>std err</th>      <th>t</th>      <th>P>|t|</th>  <th>[0.025</th>    <th>0.975]</th>  \n",
       "</tr>\n",
       "<tr>\n",
       "  <th>const</th>       <td>   -6.3321</td> <td>    1.670</td> <td>   -3.792</td> <td> 0.004</td> <td>  -10.053</td> <td>   -2.611</td>\n",
       "</tr>\n",
       "<tr>\n",
       "  <th>Temperature</th> <td>    9.2085</td> <td>    0.034</td> <td>  272.255</td> <td> 0.000</td> <td>    9.133</td> <td>    9.284</td>\n",
       "</tr>\n",
       "</table>\n",
       "<table class=\"simpletable\">\n",
       "<tr>\n",
       "  <th>Omnibus:</th>       <td> 2.719</td> <th>  Durbin-Watson:     </th> <td>   1.063</td>\n",
       "</tr>\n",
       "<tr>\n",
       "  <th>Prob(Omnibus):</th> <td> 0.257</td> <th>  Jarque-Bera (JB):  </th> <td>   1.292</td>\n",
       "</tr>\n",
       "<tr>\n",
       "  <th>Skew:</th>          <td> 0.804</td> <th>  Prob(JB):          </th> <td>   0.524</td>\n",
       "</tr>\n",
       "<tr>\n",
       "  <th>Kurtosis:</th>      <td> 2.972</td> <th>  Cond. No.          </th> <td>    147.</td>\n",
       "</tr>\n",
       "</table><br/><br/>Notes:<br/>[1] Standard Errors assume that the covariance matrix of the errors is correctly specified."
      ],
      "text/plain": [
       "<class 'statsmodels.iolib.summary.Summary'>\n",
       "\"\"\"\n",
       "                            OLS Regression Results                            \n",
       "==============================================================================\n",
       "Dep. Variable:             Usage/l000   R-squared:                       1.000\n",
       "Model:                            OLS   Adj. R-squared:                  1.000\n",
       "Method:                 Least Squares   F-statistic:                 7.412e+04\n",
       "Date:                Fri, 25 Mar 2022   Prob (F-statistic):           1.10e-20\n",
       "Time:                        13:04:50   Log-Likelihood:                -23.920\n",
       "No. Observations:                  12   AIC:                             51.84\n",
       "Df Residuals:                      10   BIC:                             52.81\n",
       "Df Model:                           1                                         \n",
       "Covariance Type:            nonrobust                                         \n",
       "===============================================================================\n",
       "                  coef    std err          t      P>|t|      [0.025      0.975]\n",
       "-------------------------------------------------------------------------------\n",
       "const          -6.3321      1.670     -3.792      0.004     -10.053      -2.611\n",
       "Temperature     9.2085      0.034    272.255      0.000       9.133       9.284\n",
       "==============================================================================\n",
       "Omnibus:                        2.719   Durbin-Watson:                   1.063\n",
       "Prob(Omnibus):                  0.257   Jarque-Bera (JB):                1.292\n",
       "Skew:                           0.804   Prob(JB):                        0.524\n",
       "Kurtosis:                       2.972   Cond. No.                         147.\n",
       "==============================================================================\n",
       "\n",
       "Notes:\n",
       "[1] Standard Errors assume that the covariance matrix of the errors is correctly specified.\n",
       "\"\"\""
      ]
     },
     "execution_count": 9,
     "metadata": {},
     "output_type": "execute_result"
    }
   ],
   "source": [
    "import numpy as np\n",
    "import pandas as pd\n",
    "import statsmodels.api as sm\n",
    "\n",
    "dataset = pd.read_csv(\"https://raw.githubusercontent.com/forestwhite/Regression/main/data/212Table.csv\")\n",
    "\n",
    "# Creating X and y\n",
    "X = dataset['Temperature']\n",
    "y = dataset['Usage/l000']\n",
    "\n",
    "# Add a list of ones with length of X to identify intercept terms in linear model\n",
    "x = sm.add_constant(X)\n",
    "results = sm.OLS(y,x).fit()\n",
    " \n",
    "results.summary()"
   ]
  },
  {
   "cell_type": "markdown",
   "id": "97408316-6354-48cc-8640-80ed191957c0",
   "metadata": {
    "tags": []
   },
   "source": [
    "Calculate the Sum of Squares Total (SST), the Sum of Squares of the Response (SSR), and the Sum of Squares of the Error/Residuals (SSE), and use them to find the coefficient of determination, R^2."
   ]
  },
  {
   "cell_type": "code",
   "execution_count": 31,
   "id": "8e5db4e8-fa47-459e-9d6b-242380f70907",
   "metadata": {
    "tags": []
   },
   "outputs": [
    {
     "name": "stdout",
     "output_type": "stream",
     "text": [
      "ybar: \n"
     ]
    },
    {
     "data": {
      "text/plain": [
       "421.8616666666667"
      ]
     },
     "metadata": {},
     "output_type": "display_data"
    },
    {
     "name": "stdout",
     "output_type": "stream",
     "text": [
      "SS_total: \n"
     ]
    },
    {
     "data": {
      "text/plain": [
       "280627.4199666666"
      ]
     },
     "metadata": {},
     "output_type": "display_data"
    },
    {
     "name": "stdout",
     "output_type": "stream",
     "text": [
      "SS_error: \n"
     ]
    },
    {
     "data": {
      "text/plain": [
       "37.85472832000013"
      ]
     },
     "metadata": {},
     "output_type": "display_data"
    },
    {
     "name": "stdout",
     "output_type": "stream",
     "text": [
      "SS_regression: \n"
     ]
    },
    {
     "data": {
      "text/plain": [
       "280591.52670165343"
      ]
     },
     "metadata": {},
     "output_type": "display_data"
    },
    {
     "name": "stdout",
     "output_type": "stream",
     "text": [
      "r_squared: \n"
     ]
    },
    {
     "data": {
      "text/plain": [
       "0.9998720963724164"
      ]
     },
     "metadata": {},
     "output_type": "display_data"
    }
   ],
   "source": [
    "import numpy as np\n",
    "import pandas as pd\n",
    "\n",
    "dataset = pd.read_csv(\"https://raw.githubusercontent.com/forestwhite/Regression/main/data/212Table.csv\")\n",
    "\n",
    "import matplotlib.pyplot as plt \n",
    "\n",
    "# Creating X and y\n",
    "X = dataset['Temperature']\n",
    "y = dataset['Usage/l000']\n",
    "\n",
    "\n",
    "\n",
    "# calculate y_hat estimate and sample average for y\n",
    "yhat = 9.2085*X - 6.3321\n",
    "ybar = np.average(y)\n",
    "print(\"ybar: \")\n",
    "display(ybar)\n",
    "\n",
    "#Calculate the sum of squares values\n",
    "SS_total=sum(np.square(np.subtract(y,ybar)))\n",
    "print(\"SS_total: \")\n",
    "display(SS_total)\n",
    "SS_error=sum(np.square(np.subtract(y,yhat)))\n",
    "print(\"SS_error: \")\n",
    "display(SS_error)\n",
    "SS_regression=sum(np.square(np.subtract(yhat,ybar)))\n",
    "print(\"SS_regression: \")\n",
    "display(SS_regression)\n",
    "\n",
    "# calculate coefficient of determination, R^2\n",
    "r_squared=SS_regression/SS_total\n",
    "print(\"r_squared: \")\n",
    "display(r_squared)\n"
   ]
  },
  {
   "cell_type": "markdown",
   "id": "2cad2d31-8bcb-47e3-9797-53d00057cf86",
   "metadata": {
    "tags": []
   },
   "source": [
    "Plot the linear fit line."
   ]
  },
  {
   "cell_type": "code",
   "execution_count": 6,
   "id": "9fa8a834-8b15-48fc-935c-bdbab99e4cb0",
   "metadata": {
    "tags": []
   },
   "outputs": [
    {
     "data": {
      "image/png": "[encoded data removed]",
      "text/plain": [
       "<Figure size 432x288 with 1 Axes>"
      ]
     },
     "metadata": {
      "needs_background": "light"
     },
     "output_type": "display_data"
    }
   ],
   "source": [
    "import numpy as np\n",
    "import pandas as pd\n",
    "import matplotlib.pyplot as plt\n",
    "\n",
    "# Creating X and y\n",
    "X = dataset['Temperature']\n",
    "y = dataset['Usage/l000']\n",
    "\n",
    "plt.scatter(X,y)\n",
    " \n",
    "yhat = 9.2085*X - 6.3321\n",
    "fig = plt.plot(X, yhat, lw=4, c='orange', label = 'regression line')\n",
    " \n",
    "plt.xlabel('Temperature', fontsize = 20)\n",
    "plt.ylabel('Pounds of Steam/1000', fontsize = 20)\n",
    "plt.show()"
   ]
  },
  {
   "cell_type": "code",
   "execution_count": null,
   "id": "9144f5b5-270f-4610-ad28-b820934db3d4",
   "metadata": {},
   "outputs": [],
   "source": []
  }
 ],
 "metadata": {
  "kernelspec": {
   "display_name": "Python 3 (ipykernel)",
   "language": "python",
   "name": "python3"
  },
  "language_info": {
   "codemirror_mode": {
    "name": "ipython",
    "version": 3
   },
   "file_extension": ".py",
   "mimetype": "text/x-python",
   "name": "python",
   "nbconvert_exporter": "python",
   "pygments_lexer": "ipython3",
   "version": "3.8.12"
  }
 },
 "nbformat": 4,
 "nbformat_minor": 5
}
